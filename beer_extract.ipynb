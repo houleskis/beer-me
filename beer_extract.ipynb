{
 "cells": [
  {
   "cell_type": "code",
   "execution_count": null,
   "metadata": {},
   "outputs": [],
   "source": [
    "from bs4 import BeautifulSoup\n",
    "#import requests\n",
    "from urllib.request import urlopen\n",
    "import re"
   ]
  },
  {
   "cell_type": "code",
   "execution_count": null,
   "metadata": {},
   "outputs": [],
   "source": [
    "count = 0\n",
    "\n",
    "while count < 1980:\n",
    "\n",
    "    link = 'https://www.lcbo.com/webapp/wcs/stores/servlet/en/lcbo/beer-cider-16/beer-cider-16?pageView=grid&beginIndex=' + str(count)\n",
    "    html = urlopen(link)\n",
    "    soup = BeautifulSoup(html, 'html.parser')\n",
    "\n",
    "    for product in soup.find_all(class_='product_name'):\n",
    "        for i in product.find_all('a'):\n",
    "            print(i.get('href'))\n",
    "        \n",
    "    count += 12\n",
    "    \n",
    "    \n",
    "\n"
   ]
  },
  {
   "cell_type": "code",
   "execution_count": null,
   "metadata": {},
   "outputs": [],
   "source": [
    "for product in soup.find_all(class_='product_name'):\n",
    "    for i in product.find_all('a'):\n",
    "        print(i.get('href'))"
   ]
  },
  {
   "cell_type": "code",
   "execution_count": null,
   "metadata": {},
   "outputs": [],
   "source": [
    "link = 'https://www.lcbo.com/webapp/wcs/stores/servlet/en/lcbo/beer-cider-16/carlsberg-73809'\n",
    "html = urlopen(link)\n",
    "soup = BeautifulSoup(html, 'html.parser')\n",
    "\n",
    "print(soup)"
   ]
  },
  {
   "cell_type": "code",
   "execution_count": null,
   "metadata": {},
   "outputs": [],
   "source": [
    "soup.find(class_='product-text-content')"
   ]
  },
  {
   "cell_type": "code",
   "execution_count": null,
   "metadata": {},
   "outputs": [],
   "source": [
    "print(soup.find(class_='product-text-content').get_text())"
   ]
  },
  {
   "cell_type": "code",
   "execution_count": null,
   "metadata": {},
   "outputs": [],
   "source": [
    "desc = soup.find(class_='product-details-list')\n",
    "\n",
    "dd = desc.find_all(\"dd\")\n",
    "\n",
    "store = []\n",
    "count = 0\n",
    "\n",
    "for i in dd:\n",
    "    store.append(i.text.strip())\n",
    "    print(i.string)\n",
    "\n",
    "print(store)"
   ]
  },
  {
   "cell_type": "code",
   "execution_count": null,
   "metadata": {},
   "outputs": [],
   "source": [
    "store.pop(0)"
   ]
  },
  {
   "cell_type": "code",
   "execution_count": null,
   "metadata": {},
   "outputs": [],
   "source": [
    "store"
   ]
  },
  {
   "cell_type": "code",
   "execution_count": null,
   "metadata": {},
   "outputs": [],
   "source": [
    "price = soup.find(class_='price').string.strip()"
   ]
  },
  {
   "cell_type": "code",
   "execution_count": null,
   "metadata": {},
   "outputs": [],
   "source": [
    "store.append(price)\n",
    "store"
   ]
  },
  {
   "cell_type": "code",
   "execution_count": null,
   "metadata": {},
   "outputs": [],
   "source": []
  }
 ],
 "metadata": {
  "kernelspec": {
   "display_name": "Python 3",
   "language": "python",
   "name": "python3"
  },
  "language_info": {
   "codemirror_mode": {
    "name": "ipython",
    "version": 3
   },
   "file_extension": ".py",
   "mimetype": "text/x-python",
   "name": "python",
   "nbconvert_exporter": "python",
   "pygments_lexer": "ipython3",
   "version": "3.8.5"
  }
 },
 "nbformat": 4,
 "nbformat_minor": 4
}
